{
 "cells": [
  {
   "cell_type": "code",
   "execution_count": 4,
   "id": "b127d984",
   "metadata": {},
   "outputs": [],
   "source": [
    "from idd_manuscripts.citation_functions import load_zotero_config, fetch_and_save_zotero_bibtex, search_bibtex\n",
    "from idd_manuscripts import constants as rfc\n",
    "\n",
    "user_id, api_key = load_zotero_config(rfc.zotero_config)\n",
    "fetch_and_save_zotero_bibtex(user_id, api_key, 'references.bib')"
   ]
  },
  {
   "cell_type": "code",
   "execution_count": 7,
   "id": "78b4854b",
   "metadata": {},
   "outputs": [
    {
     "name": "stdout",
     "output_type": "stream",
     "text": [
      "D2Z4EIUS: Measuring health related quality of life for dengue patients in Iquitos, Peru\n",
      "  Authors: Elson, William H and Riley-Powell, Amy R and Morrison, Amy C and Gotlieb, Esther E and Groessl, Erik J and Cordova, Jhonny J and Rios, J Esther and Quiroz, W Lorena and Vizcarra, Alfonso S and Reiner, Robert C\n",
      "  Year: 2020\n",
      "  Journal: PLoS neglected tropical diseases\n",
      "\n",
      "GTFITYM8: Measuring health related quality of life for dengue patients in Iquitos, Peru\n",
      "  Authors: Elson, William H and Riley-Powell, Amy R and Morrison, Amy C and Gotlieb, Esther E and Groessl, Erik J and Cordova, Jhonny J and Rios, J Esther and Quiroz, W Lorena and Vizcarra, Alfonso S and Reiner, Robert C\n",
      "  Year: 2020\n",
      "  Journal: PLoS neglected tropical diseases\n",
      "\n",
      "QWMEXMGH: Heterogeneity of Dengue Illness in Community-Based Prospective Study, Iquitos, Peru\n",
      "  Authors: Elson, William H and Reiner, Robert C and Siles, Crystyan and Bazan, Isabel and Vilcarromero, Stalin and Riley-Powell, Amy R and Kawiecki, Ania B and Astete, Helvio and Hontz, Robert D and Barker, Chris M\n",
      "  Year: 2020\n",
      "  Journal: Emerging Infectious Diseases\n",
      "\n",
      "YSENFLMD: Heterogeneity of Dengue Illness in Community-Based Prospective Study, Iquitos, Peru\n",
      "  Authors: Elson, William H and Reiner, Robert C and Siles, Crystyan and Bazan, Isabel and Vilcarromero, Stalin and Riley-Powell, Amy R and Kawiecki, Ania B and Astete, Helvio and Hontz, Robert D and Barker, Chris M\n",
      "  Year: 2020\n",
      "  Journal: Emerging Infectious Diseases\n",
      "\n"
     ]
    }
   ],
   "source": [
    "# Example usage:\n",
    "results = search_bibtex(author=\"Reiner\", year=\"2020\", title_words=[\"dengue\"])\n",
    "for r in results:\n",
    "    print(f\"{r.get('ID')}: {r.get('title')}\\n  Authors: {r.get('author')}\\n  Year: {r.get('year')}\\n  Journal: {r.get('journal')}\\n\")"
   ]
  },
  {
   "cell_type": "code",
   "execution_count": null,
   "id": "38242d0f",
   "metadata": {},
   "outputs": [],
   "source": []
  }
 ],
 "metadata": {
  "kernelspec": {
   "display_name": "idd-manuscripts",
   "language": "python",
   "name": "python3"
  },
  "language_info": {
   "codemirror_mode": {
    "name": "ipython",
    "version": 3
   },
   "file_extension": ".py",
   "mimetype": "text/x-python",
   "name": "python",
   "nbconvert_exporter": "python",
   "pygments_lexer": "ipython3",
   "version": "3.12.11"
  }
 },
 "nbformat": 4,
 "nbformat_minor": 5
}
