{
 "cells": [
  {
   "cell_type": "code",
   "execution_count": 1,
   "id": "1948544f",
   "metadata": {},
   "outputs": [],
   "source": [
    "# Have to use my_gbd_sunset environment\n",
    "import os\n",
    "# Shared Functions\n",
    "from db_queries import get_location_metadata, get_age_metadata, get_population, get_cause_metadata, get_outputs\n",
    "from get_draws.api import get_draws"
   ]
  },
  {
   "cell_type": "code",
   "execution_count": 2,
   "id": "2ce40399",
   "metadata": {},
   "outputs": [],
   "source": [
    "# Directories\n",
    "DATA_DIR = '/mnt/team/idd/pub/manuscripts/GBD2023_DENV/data'"
   ]
  },
  {
   "cell_type": "code",
   "execution_count": 3,
   "id": "839fe521",
   "metadata": {},
   "outputs": [],
   "source": [
    "# Run numbers\n",
    "release_id = 16\n",
    "como_v = 1762\n",
    "codcorrect_v = 497\n",
    "dalynator_v = 98\n",
    "burdenator_v = 395\n",
    "compare_v = 8305\n",
    "\n",
    "data_date = \"2025_09_30\"\n",
    "dengue_id = 357\n",
    "dengue_sequela_ids = [157, 158, 159]\n",
    "\n",
    "# make data_date subdirectory within DATA_DIR\n",
    "data_date_dir = f'{DATA_DIR}/{data_date}'\n",
    "os.makedirs(data_date_dir, exist_ok=True)"
   ]
  },
  {
   "cell_type": "code",
   "execution_count": null,
   "id": "696796be",
   "metadata": {},
   "outputs": [],
   "source": [
    "modeling_hierarchy_2023 = get_location_metadata(location_set_id = 35, release_id = release_id)\n",
    "modeling_hierarchy_2023 = modeling_hierarchy_2023[['location_set_id', 'location_id', 'parent_id', 'path_to_top_parent', 'level', 'most_detailed', 'sort_order', \n",
    "                         'location_name', 'location_name_short', 'location_type', 'map_id', 'super_region_id', 'super_region_name',\n",
    "                         'region_id', 'region_name', 'ihme_loc_id', 'local_id', 'lancet_label']]\n",
    "\n",
    "SDI_Q = get_location_metadata(location_set_id=40, release_id=release_id)\n",
    "SDI_names = [\"Low SDI\", \"Low-middle SDI\", \"Middle SDI\", \"High-middle SDI\", \"High SDI\"]\n",
    "SDI_Q['SDI_Q'] = SDI_Q['region_name']\n",
    "\n",
    "modeling_hierarchy_2023 = modeling_hierarchy_2023.merge(SDI_Q[['location_id', 'SDI_Q']], how='left', on='location_id')\n",
    "modeling_hierarchy_2023.to_parquet(f\"{data_date_dir}/modeling_hierarchy_2023.parquet\", index=False)\n",
    "\n",
    "\n",
    "loc_global = modeling_hierarchy_2023[modeling_hierarchy_2023['level'] == 0]\n",
    "loc_super_region = modeling_hierarchy_2023[modeling_hierarchy_2023['level'] == 1]\n",
    "loc_region = modeling_hierarchy_2023[modeling_hierarchy_2023['level'] == 2]\n",
    "loc_country = modeling_hierarchy_2023[modeling_hierarchy_2023['level'] == 3]\n",
    "loc_sub_nat = modeling_hierarchy_2023[modeling_hierarchy_2023['level'] == 4]\n",
    "loc_most_detailed = modeling_hierarchy_2023[modeling_hierarchy_2023['most_detailed'] == 1]\n",
    "\n",
    "age_metadata = get_age_metadata(release_id = release_id)\n",
    "age_metadata.to_parquet(f\"{data_date_dir}/age_metadata.parquet\", index=False)\n",
    "age_group_ids = [1, 22, 27] + age_metadata['age_group_id'].tolist()\n",
    "sex_ids = [1, 2, 3]\n",
    "year_ids = list(range(1990, 2024))"
   ]
  },
  {
   "cell_type": "code",
   "execution_count": null,
   "id": "78b86874",
   "metadata": {},
   "outputs": [],
   "source": [
    "# Get population\n",
    "all_population = get_population(\n",
    "    age_group_id=age_group_ids,\n",
    "    release_id=release_id,\n",
    "    year_id=year_ids,\n",
    "    location_id=list(loc_global['location_id']) +\n",
    "                list(loc_super_region['location_id']) +\n",
    "                list(loc_region['location_id']) +\n",
    "                list(loc_country['location_id']),\n",
    "    sex_id=sex_ids\n",
    ")\n",
    "all_population = all_population[[\"age_group_id\", \"location_id\", \"year_id\", \"sex_id\", \"population\"]]\n",
    "all_population.to_parquet(f\"{data_date_dir}/population.parquet\", index=False)"
   ]
  },
  {
   "cell_type": "code",
   "execution_count": 6,
   "id": "eac060d1",
   "metadata": {},
   "outputs": [],
   "source": [
    "cause_meta = get_cause_metadata(cause_set_id=3, release_id=release_id)\n",
    "level_3A_cause = cause_meta[(cause_meta['level'] == 3) & (cause_meta['cause_outline'] == 'A')]\n",
    "all_CD_results = get_outputs(\n",
    "    \"cause\",\n",
    "    cause_id=level_3A_cause['cause_id'].tolist(),\n",
    "    measure_id=2,\n",
    "    year_id=[1990, 2000, 2023],\n",
    "    location_id=loc_global['location_id'].tolist() + loc_super_region['location_id'].tolist() + loc_region['location_id'].tolist(),\n",
    "    age_group_id=[22, 27],\n",
    "    release_id=release_id,\n",
    "    metric_id=[1, 3],\n",
    "    sex_id=3,\n",
    "    compare_version_id=compare_v\n",
    ")\n",
    "all_CD_results.to_parquet(f\"{data_date_dir}/all_CD_results.parquet\", index=False)                                      "
   ]
  },
  {
   "cell_type": "code",
   "execution_count": 7,
   "id": "3089ae56",
   "metadata": {},
   "outputs": [],
   "source": [
    "dengue_sequelae_results = get_outputs(\n",
    "    \"sequela\",\n",
    "    sequela_id=dengue_sequela_ids,\n",
    "    year_id=[1990, 2000, 2023],\n",
    "    location_id=modeling_hierarchy_2023['location_id'].tolist(),\n",
    "    age_group_id=age_group_ids,\n",
    "    release_id=release_id,\n",
    "    compare_version_id=compare_v,\n",
    "    metric_id=[1, 3],\n",
    "    sex_id = 'all'\n",
    ")\n",
    "dengue_sequelae_results.to_parquet(f\"{data_date_dir}/dengue_sequelae_results.parquet\", index=False)"
   ]
  },
  {
   "cell_type": "code",
   "execution_count": 8,
   "id": "93d99a93",
   "metadata": {},
   "outputs": [],
   "source": [
    "aa_results = get_outputs(\n",
    "    \"cause\",\n",
    "    cause_id=dengue_id,\n",
    "    measure_id='all',\n",
    "    year_id=year_ids,\n",
    "    location_id=modeling_hierarchy_2023['location_id'].tolist(),\n",
    "    age_group_id=[22, 27],\n",
    "    release_id=release_id,\n",
    "    metric_id=[1, 3],\n",
    "    sex_id='all',\n",
    "    compare_version_id=compare_v\n",
    ")\n",
    "aa_results.to_parquet(f\"{data_date_dir}/aa_results.parquet\", index=False)"
   ]
  },
  {
   "cell_type": "code",
   "execution_count": 9,
   "id": "b9f3cc4e",
   "metadata": {},
   "outputs": [],
   "source": [
    "as_results = get_outputs(\n",
    "    \"cause\",\n",
    "    cause_id=dengue_id,\n",
    "    measure_id='all',\n",
    "    year_id=2023,\n",
    "    location_id=modeling_hierarchy_2023['location_id'].tolist(),\n",
    "    age_group_id='all',\n",
    "    release_id=release_id,\n",
    "    metric_id=[1, 3],\n",
    "    sex_id='all',\n",
    "    compare_version_id=compare_v\n",
    ")\n",
    "as_results.to_parquet(f\"{data_date_dir}/as_results.parquet\", index=False)"
   ]
  },
  {
   "cell_type": "code",
   "execution_count": 10,
   "id": "30661a4f",
   "metadata": {},
   "outputs": [],
   "source": [
    "denv_2023_global_daly_draws = get_draws(gbd_id_type = \"cause_id\", \n",
    "                                          gbd_id = dengue_id, \n",
    "                                          location_id= 1, \n",
    "                                          year_id=2023, \n",
    "                                          source=\"dalynator\", \n",
    "                                          measure_id = 2,\n",
    "                                          metric_id = [1,2],\n",
    "                                          sex_id = 3,\n",
    "                                          release_id = release_id, \n",
    "                                          version_id = dalynator_v)\n",
    "denv_2023_global_daly_draws.to_parquet(f\"{data_date_dir}/denv_2023_global_daly_draws.parquet\", index=False)"
   ]
  },
  {
   "cell_type": "code",
   "execution_count": 11,
   "id": "a9a368c7",
   "metadata": {},
   "outputs": [],
   "source": [
    "denv_2023_global_yll_draws = get_draws(gbd_id_type = \"cause_id\", \n",
    "                                         gbd_id = dengue_id, \n",
    "                                         location_id= 1, \n",
    "                                         year_id = 2023, \n",
    "                                         source = \"codcorrect\", \n",
    "                                         measure_id = 4,\n",
    "                                         metric_id = [1,3],\n",
    "                                         sex_id = 3,\n",
    "                                         release_id = release_id, \n",
    "                                         version_id = codcorrect_v)\n",
    "denv_2023_global_yll_draws.to_parquet(f\"{data_date_dir}/denv_2023_global_yll_draws.parquet\", index=False)"
   ]
  },
  {
   "cell_type": "code",
   "execution_count": 12,
   "id": "a0c39359",
   "metadata": {},
   "outputs": [],
   "source": [
    "denv_2023_global_yld_draws = get_draws(gbd_id_type = \"cause_id\", \n",
    "                                         gbd_id = dengue_id, \n",
    "                                         location_id = 1, \n",
    "                                         year_id = 2023, \n",
    "                                         source = \"como\", \n",
    "                                         measure_id = 3,\n",
    "                                         metric_id = [1,3],\n",
    "                                         sex_id = 3,\n",
    "                                         release_id = release_id, \n",
    "                                         version_id = como_v)\n",
    "denv_2023_global_yld_draws.to_parquet(f\"{data_date_dir}/denv_2023_global_yld_draws.parquet\", index=False)"
   ]
  },
  {
   "cell_type": "code",
   "execution_count": 13,
   "id": "8980b6ad",
   "metadata": {},
   "outputs": [],
   "source": [
    "#prev =5 , inc =6 , deaths =1 , dalys =2 , ylds = 3, ylls = 4\n",
    "denv_2023_global_deaths_draws = get_draws(gbd_id_type = \"cause_id\", \n",
    "                                        gbd_id = dengue_id, \n",
    "                                        location_id= 1, \n",
    "                                        year_id = 2023, \n",
    "                                        source = \"codcorrect\", \n",
    "                                        measure_id = 1,\n",
    "                                        metric_id = [1,3],\n",
    "                                        sex_id = 3,\n",
    "                                        release_id = release_id, \n",
    "                                        version_id = codcorrect_v)\n",
    "\n",
    "denv_2023_global_deaths_draws.to_parquet(f\"{data_date_dir}/denv_2023_global_deaths_draws.parquet\", index=False)"
   ]
  },
  {
   "cell_type": "code",
   "execution_count": 14,
   "id": "73f02c82",
   "metadata": {},
   "outputs": [],
   "source": [
    "denv_2023_global_incidence_draws = get_draws(gbd_id_type = \"cause_id\", \n",
    "                                            gbd_id = dengue_id, \n",
    "                                            location_id = 1, \n",
    "                                            year_id = 2023, \n",
    "                                            source = \"como\", \n",
    "                                            measure_id = 6,\n",
    "                                            metric_id = [1,3],\n",
    "                                            sex_id = 3,\n",
    "                                            release_id = release_id, \n",
    "                                            version_id = como_v)\n",
    "denv_2023_global_incidence_draws.to_parquet(f\"{data_date_dir}/denv_2023_global_incidence_draws.parquet\", index=False)"
   ]
  },
  {
   "cell_type": "code",
   "execution_count": 15,
   "id": "4cec88de",
   "metadata": {},
   "outputs": [],
   "source": [
    "all_CD_results_draws = get_draws(gbd_id_type = \"cause_id\", \n",
    "                                   gbd_id = level_3A_cause['cause_id'].tolist(), \n",
    "                                   location_id=loc_global['location_id'].tolist() + loc_super_region['location_id'].tolist(), \n",
    "                                   year_id=[1990, 2000, 2023], \n",
    "                                   source=\"dalynator\",\n",
    "                                   age_group_id = [22, 27],\n",
    "                                   measure_id = 2,\n",
    "                                   sex_id = 3,\n",
    "                                   metric_id = [1,3], \n",
    "                                   release_id = release_id, \n",
    "                                   version_id = dalynator_v)\n",
    "all_CD_results_draws.to_parquet(f\"{data_date_dir}/all_CD_results_draws.parquet\", index=False)"
   ]
  },
  {
   "cell_type": "code",
   "execution_count": null,
   "id": "2df0dede",
   "metadata": {},
   "outputs": [],
   "source": [
    "denv_A0_DALY_draws = get_draws(gbd_id_type = \"cause_id\", \n",
    "                                 gbd_id = dengue_id, \n",
    "                                 location_id = loc_country['location_id'].tolist(),\n",
    "                                 year_id=[1990, 2000, 2023], \n",
    "                                 source=\"dalynator\",\n",
    "                                 age_group_id = [22,27],\n",
    "                                 measure_id = 2,\n",
    "                                 sex_id = 3,\n",
    "                                 metric_id = [1,3], \n",
    "                                 release_id = release_id, \n",
    "                                 version_id = dalynator_v)\n",
    "denv_A0_DALY_draws.to_parquet(f\"{data_date_dir}/denv_A0_DALY_draws.parquet\", index=False)"
   ]
  },
  {
   "cell_type": "code",
   "execution_count": null,
   "id": "3a8cc4d2",
   "metadata": {},
   "outputs": [],
   "source": [
    "# denv sequale\n",
    "sequela_draws = get_draws(gbd_id_type = \"sequela_id\", \n",
    "                        gbd_id = [157, 158, 159], \n",
    "                        location_id = 1,\n",
    "                        year_id = 2023, \n",
    "                        source = \"como\",\n",
    "                        measure_id = 3,\n",
    "                        sex_id = 3,\n",
    "                        metric_id = [1,3], \n",
    "                        release_id = release_id, \n",
    "                        version_id = como_v)\n",
    "sequela_draws.to_parquet(f\"{data_date_dir}/sequela_draws.parquet\", index=False)"
   ]
  }
 ],
 "metadata": {
  "kernelspec": {
   "display_name": "my_gbd_sunset",
   "language": "python",
   "name": "python3"
  },
  "language_info": {
   "codemirror_mode": {
    "name": "ipython",
    "version": 3
   },
   "file_extension": ".py",
   "mimetype": "text/x-python",
   "name": "python",
   "nbconvert_exporter": "python",
   "pygments_lexer": "ipython3",
   "version": "3.11.11"
  }
 },
 "nbformat": 4,
 "nbformat_minor": 5
}
